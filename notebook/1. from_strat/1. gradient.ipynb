{
 "cells": [
  {
   "cell_type": "code",
   "execution_count": 1,
   "metadata": {},
   "outputs": [
    {
     "name": "stdout",
     "output_type": "stream",
     "text": [
      "[[ 2.39784666]\n",
      " [ 3.82528748]] 4.28831566186 8.73976925473\n"
     ]
    },
    {
     "data": {
      "image/png": "[encoded data removed]",
      "text/plain": [
       "<matplotlib.figure.Figure at 0x1118ebcc0>"
      ]
     },
     "metadata": {},
     "output_type": "display_data"
    }
   ],
   "source": [
    "import numpy as np\n",
    "import matplotlib.pyplot as plt\n",
    "%matplotlib inline\n",
    "\n",
    "\n",
    "x = np.random.random((1000,2))\n",
    "\n",
    "w = np.array([[2.4],[3.9]])\n",
    "b = 4.2\n",
    "\n",
    "y = np.dot(x, w) + b\n",
    "y = y + 0.1 * np.random.random(1000).reshape(1000,1)\n",
    "\n",
    "w_ = np.random.randn(2,1)\n",
    "b_ = 0\n",
    "\n",
    "\n",
    "lr = 0.0001\n",
    "epochs = 200\n",
    "\n",
    "a = []\n",
    "for e in range(epochs):\n",
    "    w_ = w_ - lr * 2 * np.dot(x.T, (np.dot(x, w_) + b_ - y))\n",
    "    b_ = b_ - lr * 2 * (np.dot(x, w_) + b_ - y).sum()\n",
    "    a.append(((np.dot(x, w_) + b - y)**2).sum())\n",
    "    \n",
    "print(w_, b_, a[-1])\n",
    "plt.plot(np.arange(epochs),a)\n",
    "plt.show()"
   ]
  },
  {
   "cell_type": "code",
   "execution_count": null,
   "metadata": {
    "collapsed": true
   },
   "outputs": [],
   "source": []
  }
 ],
 "metadata": {
  "kernelspec": {
   "display_name": "Python 3",
   "language": "python",
   "name": "python3"
  },
  "language_info": {
   "codemirror_mode": {
    "name": "ipython",
    "version": 3
   },
   "file_extension": ".py",
   "mimetype": "text/x-python",
   "name": "python",
   "nbconvert_exporter": "python",
   "pygments_lexer": "ipython3",
   "version": "3.6.4"
  }
 },
 "nbformat": 4,
 "nbformat_minor": 2
}
