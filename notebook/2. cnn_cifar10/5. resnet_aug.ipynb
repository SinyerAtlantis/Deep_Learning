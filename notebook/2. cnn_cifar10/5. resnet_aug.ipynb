{
 "cells": [
  {
   "cell_type": "code",
   "execution_count": 1,
   "metadata": {
    "collapsed": true
   },
   "outputs": [],
   "source": [
    "import mxnet as mx\n",
    "from mxnet import init, gluon, nd, autograd, image\n",
    "from mxnet.gluon import nn\n",
    "import numpy as np\n",
    "import pickle as p\n",
    "import matplotlib.pyplot as plt\n",
    "from time import time\n",
    "%matplotlib inline\n",
    "ctx = mx.gpu()\n",
    "data_dir = '/home/sinyer/python/data/cifar10'"
   ]
  },
  {
   "cell_type": "code",
   "execution_count": 2,
   "metadata": {
    "collapsed": true
   },
   "outputs": [],
   "source": [
    "def load_cifar(route = data_dir+'/cifar-10-batches-py'):\n",
    "    def load_batch(filename):\n",
    "        with open(filename, 'rb')as f:\n",
    "            data_dict = p.load(f, encoding='latin1')\n",
    "            X = data_dict['data']\n",
    "            Y = data_dict['labels']\n",
    "            X = X.reshape(10000, 3, 32,32).astype(\"float\")\n",
    "            Y = np.array(Y)\n",
    "            return X, Y\n",
    "    def load_labels(filename):\n",
    "        with open(filename, 'rb') as f:\n",
    "            label_names = p.load(f, encoding='latin1')\n",
    "            names = label_names['label_names']\n",
    "            return names\n",
    "    label_names = load_labels(route + \"/batches.meta\")\n",
    "    x1, y1 = load_batch(route + \"/data_batch_1\")\n",
    "    x2, y2 = load_batch(route + \"/data_batch_2\")\n",
    "    x3, y3 = load_batch(route + \"/data_batch_3\")\n",
    "    x4, y4 = load_batch(route + \"/data_batch_4\")\n",
    "    x5, y5 = load_batch(route + \"/data_batch_5\")\n",
    "    test_pic, test_label = load_batch(route + \"/test_batch\")\n",
    "    train_pic = np.concatenate((x1, x2, x3, x4, x5))\n",
    "    train_label = np.concatenate((y1, y2, y3, y4, y5))\n",
    "    return train_pic, train_label, test_pic, test_label\n",
    "\n",
    "def accuracy(output, label):\n",
    "    return nd.mean(output.argmax(axis=1)==label).asscalar()\n",
    "\n",
    "def evaluate_accuracy(test_data, net, ctx):\n",
    "    acc = 0.\n",
    "    for data, label in test_data:\n",
    "        data = data.as_in_context(ctx)\n",
    "        label = label.as_in_context(ctx)\n",
    "        output = net(data)\n",
    "        acc = acc + accuracy(output, label)\n",
    "    return acc / len(test_data)\n",
    "\n",
    "def augment(data, auglist):\n",
    "    data = nd.pad(data, pad_width=(0,0,0,0,2,2,2,2),mode='constant',constant_value=0)\n",
    "    data = nd.transpose(data, (0,2,3,1))\n",
    "    temp = []\n",
    "    for d in data:\n",
    "        for aug in auglist:\n",
    "            d = aug(d)\n",
    "        temp.append(d)\n",
    "    data = nd.stack(*temp)\n",
    "    data = nd.transpose(data, (0,3,1,2))\n",
    "    return data"
   ]
  },
  {
   "cell_type": "code",
   "execution_count": 3,
   "metadata": {
    "collapsed": true
   },
   "outputs": [],
   "source": [
    "class Residual(nn.Block):\n",
    "    def __init__(self, channels, same_shape=True, **kwargs):\n",
    "        super(Residual, self).__init__(**kwargs)\n",
    "        self.same_shape = same_shape\n",
    "        with self.name_scope():\n",
    "            strides = 1 if same_shape else 2\n",
    "            self.bn1 = nn.BatchNorm()\n",
    "            self.conv1 = nn.Conv2D(channels, kernel_size=3, padding=1, strides=strides)\n",
    "            self.bn2 = nn.BatchNorm()\n",
    "            self.conv2 = nn.Conv2D(channels, kernel_size=3, padding=1)\n",
    "            if not same_shape:\n",
    "                self.conv3 = nn.Conv2D(channels, kernel_size=1, strides=strides)\n",
    "    def forward(self, x):\n",
    "        out = self.conv1(nd.relu(self.bn1(x)))\n",
    "        out = self.conv2(nd.relu(self.bn2(out)))\n",
    "        if not self.same_shape:\n",
    "            x = self.conv3(x)\n",
    "        return out + x\n",
    "\n",
    "class ResNet(nn.Block):\n",
    "    def __init__(self, num_classes, **kwargs):\n",
    "        super(ResNet, self).__init__(**kwargs)\n",
    "        with self.name_scope(): \n",
    "            b1 = nn.Conv2D(16, kernel_size=3, strides=1, padding=1)\n",
    "            b2 = nn.Sequential()\n",
    "            for _ in range(8):\n",
    "                b2.add(Residual(16))\n",
    "            b3 = nn.Sequential()\n",
    "            b3.add(Residual(32, same_shape=False))\n",
    "            for _ in range(7):\n",
    "                b3.add(Residual(32))\n",
    "            b4 = nn.Sequential()\n",
    "            b4.add(Residual(64, same_shape=False))\n",
    "            for _ in range(7):\n",
    "                b4.add(Residual(64))\n",
    "            b5 = nn.Sequential()\n",
    "            b5.add(nn.BatchNorm(),nn.Activation(activation=\"relu\"),\n",
    "                   nn.AvgPool2D(pool_size=8),nn.Dense(num_classes))\n",
    "            self.net = nn.Sequential()\n",
    "            self.net.add(b1, b2, b3, b4, b5)\n",
    "    def forward(self, x):\n",
    "        out = x\n",
    "        for i, b in enumerate(self.net):\n",
    "            out = b(out)\n",
    "        return out"
   ]
  },
  {
   "cell_type": "code",
   "execution_count": 4,
   "metadata": {
    "collapsed": true
   },
   "outputs": [],
   "source": [
    "train_pic, train_label, test_pic, test_label = load_cifar()\n",
    "\n",
    "batch_size = 128\n",
    "train_pic = np.transpose(train_pic.astype('float32')/255, (0,2,3,1))\n",
    "test_pic = np.transpose(test_pic.astype('float32')/255, (0,2,3,1))\n",
    "mean = [0.4914, 0.4822, 0.4465]\n",
    "std = [0.2470, 0.2435, 0.2616]\n",
    "for i in range(3):\n",
    "    train_pic[:,:,:,i] = (train_pic[:,:,:,i] - mean[i])/std[i]\n",
    "    test_pic[:,:,:,i] = (test_pic[:,:,:,i] - mean[i])/std[i]\n",
    "train_pic = np.transpose(train_pic, (0,3,1,2))\n",
    "test_pic = np.transpose(test_pic, (0,3,1,2))\n",
    "train_data = gluon.data.DataLoader(gluon.data.ArrayDataset(train_pic, train_label.astype('float32')), \n",
    "                                   batch_size, shuffle=True)\n",
    "test_data = gluon.data.DataLoader(gluon.data.ArrayDataset(test_pic, test_label.astype('float32')), \n",
    "                                  batch_size, shuffle=False)"
   ]
  },
  {
   "cell_type": "code",
   "execution_count": 5,
   "metadata": {
    "collapsed": true
   },
   "outputs": [],
   "source": [
    "aug_train = image.CreateAugmenter(data_shape=(3, 32, 32), rand_crop=True, rand_mirror=True)\n",
    "\n",
    "net = ResNet(10)\n",
    "net.initialize(ctx=ctx, init=init.Xavier())\n",
    "loss = gluon.loss.SoftmaxCrossEntropyLoss()\n",
    "trainer = gluon.Trainer(net.collect_params(), 'nag', {'learning_rate': 0.1, 'momentum': 0.9, 'wd': 5e-4})"
   ]
  },
  {
   "cell_type": "code",
   "execution_count": 6,
   "metadata": {},
   "outputs": [
    {
     "name": "stdout",
     "output_type": "stream",
     "text": [
      "0 loss:1.4406 tracc:0.4645 teacc:0.5239 time:46.413\n",
      "10 loss:0.5094 tracc:0.8247 teacc:0.7747 time:46.523\n",
      "20 loss:0.4474 tracc:0.8451 teacc:0.7952 time:46.910\n",
      "30 loss:0.4176 tracc:0.8569 teacc:0.8170 time:47.083\n",
      "40 loss:0.4018 tracc:0.8619 teacc:0.7925 time:46.993\n",
      "50 loss:0.3897 tracc:0.8655 teacc:0.8101 time:46.851\n",
      "60 loss:0.3844 tracc:0.8693 teacc:0.7707 time:46.536\n",
      "70 loss:0.3754 tracc:0.8717 teacc:0.8485 time:47.016\n",
      "80 loss:0.2465 tracc:0.9175 teacc:0.9119 time:47.204\n",
      "90 loss:0.0928 tracc:0.9694 teacc:0.9251 time:46.772\n",
      "100 loss:0.0762 tracc:0.9745 teacc:0.9140 time:47.048\n",
      "110 loss:0.0781 tracc:0.9743 teacc:0.9129 time:46.788\n",
      "120 loss:0.0757 tracc:0.9738 teacc:0.9110 time:46.901\n",
      "130 loss:0.0779 tracc:0.9740 teacc:0.9046 time:46.762\n",
      "140 loss:0.0471 tracc:0.9853 teacc:0.9326 time:46.777\n",
      "150 loss:0.0101 tracc:0.9984 teacc:0.9356 time:47.160\n",
      "tracc:0.998889 teacc:0.934731\n"
     ]
    },
    {
     "data": {
      "image/png": "[encoded data removed]",
      "text/plain": [
       "<matplotlib.figure.Figure at 0x7fd4e1fc1550>"
      ]
     },
     "metadata": {},
     "output_type": "display_data"
    }
   ],
   "source": [
    "epochs = 160\n",
    "\n",
    "a, b = [], []\n",
    "for epoch in range(epochs):\n",
    "    if epoch == 80:\n",
    "        trainer.set_learning_rate(0.01)\n",
    "    if epoch == 140:\n",
    "        trainer.set_learning_rate(0.001)\n",
    "    train_loss = 0.\n",
    "    train_acc = 0.\n",
    "    start = time()\n",
    "    for data, label in train_data:\n",
    "        data = augment(data, aug_train).as_in_context(ctx)\n",
    "        label = label.as_in_context(ctx)\n",
    "        with autograd.record():\n",
    "            output = net(data)\n",
    "            l = loss(output, label)\n",
    "        l.backward()\n",
    "        trainer.step(batch_size)\n",
    "        train_loss = train_loss + nd.mean(l).asscalar()\n",
    "        train_acc = train_acc + accuracy(output, label)\n",
    "    test_acc = evaluate_accuracy(test_data, net, ctx)\n",
    "    \n",
    "    if epoch%10 == 0:\n",
    "        print(epoch, 'loss:%.4f tracc:%.4f teacc:%.4f time:%.3f'%(\n",
    "            train_loss/len(train_data), train_acc/len(train_data), test_acc, time()-start)) \n",
    "    a.append(train_acc/len(train_data))\n",
    "    b.append(test_acc)\n",
    "\n",
    "print('tracc:%f teacc:%f'%(train_acc/len(train_data), test_acc))\n",
    "plt.plot(np.arange(epochs), a, np.arange(epochs), b)\n",
    "plt.ylim(0,1)\n",
    "plt.show()"
   ]
  }
 ],
 "metadata": {
  "kernelspec": {
   "display_name": "Python 3",
   "language": "python",
   "name": "python3"
  },
  "language_info": {
   "codemirror_mode": {
    "name": "ipython",
    "version": 3
   },
   "file_extension": ".py",
   "mimetype": "text/x-python",
   "name": "python",
   "nbconvert_exporter": "python",
   "pygments_lexer": "ipython3",
   "version": "3.6.4"
  }
 },
 "nbformat": 4,
 "nbformat_minor": 2
}
